{
 "cells": [
  {
   "cell_type": "code",
   "execution_count": 93,
   "id": "a15dd187-2d0a-45e7-982e-d834f72fad4a",
   "metadata": {},
   "outputs": [
    {
     "data": {
      "text/plain": [
       "False"
      ]
     },
     "execution_count": 93,
     "metadata": {},
     "output_type": "execute_result"
    },
    {
     "data": {
      "image/png": "[encoded data removed]",
      "text/plain": [
       "<Figure size 432x288 with 1 Axes>"
      ]
     },
     "metadata": {
      "needs_background": "light"
     },
     "output_type": "display_data"
    }
   ],
   "source": [
    "import matplotlib.pyplot as plt\n",
    "import numpy as np\n",
    "\n",
    "\n",
    "\n",
    "\n",
    "class ChessBoard:\n",
    "    white = [1,1,1]\n",
    "    blue = [0,0,1]\n",
    "    red = [1,0,0]\n",
    "    \n",
    "\n",
    "\n",
    "    def __init__(self):\n",
    "        self.grid = np.zeros((8,8,3))\n",
    "        self.x_blue = 0\n",
    "        self.y_blue = 0\n",
    "        self.x_red= 0\n",
    "        self.y_red = 0\n",
    "        for n in np.ndindex(8,8):\n",
    "            if n[0]%2 != n[1]%2:\n",
    "                self.grid[n[0],n[1]] = ChessBoard.white\n",
    "        \n",
    "        \n",
    "        \n",
    "\n",
    "    def add_red(self, row, col):\n",
    "        self.x_red= row\n",
    "        self.y_red = col\n",
    "        self.grid[row,col] = ChessBoard.red\n",
    "         \n",
    "    \n",
    "\n",
    "    \n",
    "    def add_blue(self, row, col):\n",
    "        self.x_blue = row\n",
    "        self.y_blue =col\n",
    "        self.grid[row,col] = ChessBoard.blue\n",
    "        \n",
    "\n",
    "\n",
    "        \n",
    "    def render(self):\n",
    "        plt.imshow(self.grid)\n",
    "    \n",
    "    \n",
    "\n",
    "\n",
    "    def is_diaganol(self):\n",
    "        if abs(self.x_red-self.x_blue) == abs(self.y_red-self.y_blue):\n",
    "            return True\n",
    "\n",
    "\n",
    "    def is_under_attack(self):\n",
    "        diagonal = self.is_diaganol()\n",
    "        if self.x_red == self.x_blue:\n",
    "            return True\n",
    "        elif self.y_red== self.y_blue:\n",
    "            return True\n",
    "        elif diagonal :\n",
    "            return True\n",
    "        else:\n",
    "            return False\n",
    "    \n",
    " \n",
    "    \n",
    "board=ChessBoard()\n",
    "board.add_red(3,4)\n",
    "board.add_blue(3,0)\n",
    "assert board.is_under_attack() == True\n",
    "\n",
    "board.add_red(3,4)\n",
    "board.add_blue(6,4)\n",
    "assert board.is_under_attack() == True\n",
    "\n",
    "board.add_red(3,4)\n",
    "board.add_blue(5,2)\n",
    "assert board.is_under_attack() == True\n",
    "\n",
    "board.add_red(3,4)\n",
    "board.add_blue(5,0)\n",
    "assert board.is_under_attack() == False\n",
    "board.render()\n"
   ]
  },
  {
   "cell_type": "code",
   "execution_count": null,
   "id": "c049638c-f3dd-4a1a-887a-254a1b60f7e4",
   "metadata": {},
   "outputs": [],
   "source": []
  }
 ],
 "metadata": {
  "kernelspec": {
   "display_name": "Python 3",
   "language": "python",
   "name": "python3"
  },
  "language_info": {
   "codemirror_mode": {
    "name": "ipython",
    "version": 3
   },
   "file_extension": ".py",
   "mimetype": "text/x-python",
   "name": "python",
   "nbconvert_exporter": "python",
   "pygments_lexer": "ipython3",
   "version": "3.9.4"
  }
 },
 "nbformat": 4,
 "nbformat_minor": 5
}